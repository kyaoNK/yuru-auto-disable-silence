{
  "nbformat": 4,
  "nbformat_minor": 0,
  "metadata": {
    "colab": {
      "provenance": [],
      "mount_file_id": "1Z0vDGYsFqXPTdjGfpI0oZ-ARfotL3o61",
      "authorship_tag": "ABX9TyM9ZKSiVVYWB6hRtOzGzMO8",
      "include_colab_link": true
    },
    "kernelspec": {
      "name": "python3",
      "display_name": "Python 3"
    },
    "language_info": {
      "name": "python"
    }
  },
  "cells": [
    {
      "cell_type": "markdown",
      "metadata": {
        "id": "view-in-github",
        "colab_type": "text"
      },
      "source": [
        "<a href=\"https://colab.research.google.com/github/kyaoNK/yuru-auto-disable-silence/blob/main/yuru_auto_disable_silence.ipynb\" target=\"_parent\"><img src=\"https://colab.research.google.com/assets/colab-badge.svg\" alt=\"Open In Colab\"/></a>"
      ]
    },
    {
      "cell_type": "code",
      "source": [
        "!pip install pydub lxml"
      ],
      "metadata": {
        "colab": {
          "base_uri": "https://localhost:8080/"
        },
        "id": "xKmd2CIGPLea",
        "outputId": "e0c415ce-6aa8-41ab-ef2e-68af583632d8"
      },
      "execution_count": null,
      "outputs": [
        {
          "output_type": "stream",
          "name": "stdout",
          "text": [
            "Collecting pydub\n",
            "  Downloading pydub-0.25.1-py2.py3-none-any.whl.metadata (1.4 kB)\n",
            "Requirement already satisfied: lxml in /usr/local/lib/python3.10/dist-packages (4.9.4)\n",
            "Downloading pydub-0.25.1-py2.py3-none-any.whl (32 kB)\n",
            "Installing collected packages: pydub\n",
            "Successfully installed pydub-0.25.1\n"
          ]
        }
      ]
    },
    {
      "cell_type": "code",
      "execution_count": null,
      "metadata": {
        "id": "FQDhMMZ3TosZ"
      },
      "outputs": [],
      "source": [
        "unedited_xml_filepath = \"/content/drive/MyDrive/Colab Notebooks/yuru/240525 (5)_プロブロガーとはなんだったのか.xml\"\n",
        "mizu_wav_filepath = \"/content/drive/MyDrive/Colab Notebooks/yuru/240525 (5)_プロブロガーとはなんだったのか_mizuno.wav\"\n",
        "hori_wav_filepath = \"/content/drive/MyDrive/Colab Notebooks/yuru/240525 (5)_プロブロガーとはなんだったのか_horimoto.wav\"\n",
        "\n",
        "edited_xml_filepath =  \"/content/drive/MyDrive/Colab Notebooks/yuru/240525 (5)_プロブロガーとはなんだったのか_edited.xml\""
      ]
    },
    {
      "cell_type": "markdown",
      "source": [
        "- 音声トラックにある映像とリンクしてない同期済みの音声クリップのみ対象\n",
        "- カットによるクリップのXMLの生成と修正\n",
        "- クリップのXMLを適切な位置への挿入\n",
        "-"
      ],
      "metadata": {
        "id": "59k0LdPzV_wN"
      }
    },
    {
      "cell_type": "code",
      "source": [
        "import xml.etree.ElementTree as ET\n",
        "from pydub import AudioSegment\n",
        "from pydub.silence import detect_nonsilent\n",
        "\n",
        "import re\n",
        "import pprint\n",
        "\n",
        "silence_threshold = -40\n",
        "minimum_silence_length = 500\n",
        "\n",
        "def read_premiere_xml(xml_filepath: str):\n",
        "    tree = ET.parse(xml_filepath)\n",
        "    return tree\n",
        "\n",
        "def get_unedited_audio_tracks(root):\n",
        "    audio_tracks = []\n",
        "    audios = root.findall(\".//sequence/media/audio\")\n",
        "    for audio in audios:\n",
        "        tracks = audio.findall(\"track\")\n",
        "        for track in tracks:\n",
        "            if re.search(\".wav$\", track.find(\"clipitem/name\").text):\n",
        "                audio_tracks.append(track)\n",
        "\n",
        "    return audio_tracks\n",
        "\n",
        "def unenalbed_silence(track, start, end):\n",
        "    # 一つ前のクリップのendの時間を変更\n",
        "\n",
        "    # 新しいクリップを一つ前のクリップから複製してstart, end, clip idを変更し，末尾に挿入(無効にする場所)\n",
        "\n",
        "    # 挿入したクリップ\n",
        "    pass\n",
        "\n",
        "tree = read_premiere_xml(unedited_xml_filepath)\n",
        "root = tree.getroot()\n",
        "\n",
        "audio_tracks = get_unedited_audio_tracks(root)\n",
        "pprint.pprint(audio_tracks)\n"
      ],
      "metadata": {
        "colab": {
          "base_uri": "https://localhost:8080/"
        },
        "id": "6o30fBNDODgS",
        "outputId": "8168ee3c-dadd-4162-91dc-c612041d67e4"
      },
      "execution_count": null,
      "outputs": [
        {
          "output_type": "stream",
          "name": "stdout",
          "text": [
            "[<Element 'track' at 0x799637d6c1d0>, <Element 'track' at 0x799637d6d7b0>]\n",
            "{'id': 'gg'}\n"
          ]
        }
      ]
    }
  ]
}